{
  "nbformat": 4,
  "nbformat_minor": 0,
  "metadata": {
    "colab": {
      "provenance": [],
      "authorship_tag": "ABX9TyODwMxFvjBhBWwDcv77d3wB",
      "include_colab_link": true
    },
    "kernelspec": {
      "name": "python3",
      "display_name": "Python 3"
    },
    "language_info": {
      "name": "python"
    }
  },
  "cells": [
    {
      "cell_type": "markdown",
      "metadata": {
        "id": "view-in-github",
        "colab_type": "text"
      },
      "source": [
        "<a href=\"https://colab.research.google.com/github/HiyaJain22/ML-Lab/blob/main/NLP/NLP_implementation1.ipynb\" target=\"_parent\"><img src=\"https://colab.research.google.com/assets/colab-badge.svg\" alt=\"Open In Colab\"/></a>"
      ]
    },
    {
      "cell_type": "code",
      "execution_count": null,
      "metadata": {
        "colab": {
          "base_uri": "https://localhost:8080/"
        },
        "id": "r7Sq8L5KzirO",
        "outputId": "8bb24a25-ec08-4968-f563-c0eb50cefe13"
      },
      "outputs": [
        {
          "output_type": "stream",
          "name": "stdout",
          "text": [
            "Looking in indexes: https://pypi.org/simple, https://us-python.pkg.dev/colab-wheels/public/simple/\n",
            "Requirement already satisfied: nltk in /usr/local/lib/python3.10/dist-packages (3.8.1)\n",
            "Requirement already satisfied: click in /usr/local/lib/python3.10/dist-packages (from nltk) (8.1.3)\n",
            "Requirement already satisfied: joblib in /usr/local/lib/python3.10/dist-packages (from nltk) (1.2.0)\n",
            "Requirement already satisfied: regex>=2021.8.3 in /usr/local/lib/python3.10/dist-packages (from nltk) (2022.10.31)\n",
            "Requirement already satisfied: tqdm in /usr/local/lib/python3.10/dist-packages (from nltk) (4.65.0)\n"
          ]
        }
      ],
      "source": [
        "!pip install nltk"
      ]
    },
    {
      "cell_type": "code",
      "source": [
        "paragraphs=\"\"\"\n",
        "Narendra Damodardas Modi (Gujarati: [ˈnəɾendɾə dɑmodəɾˈdɑs ˈmodiː] (listen); born 17 September 1950)[b] is an Indian politician who has served as the 14th Prime Minister of India since May 2014. Modi was the Chief Minister of Gujarat from 2001 to 2014 and is the Member of Parliament (MP) for Varanasi. He is a member of the Bharatiya Janata Party (BJP) and of the Rashtriya Swayamsevak Sangh (RSS), a right-wing Hindu nationalist paramilitary volunteer organisation. He is the longest-serving prime minister from outside the Indian National Congress.\n",
        "\n",
        "Modi was born and raised in Vadnagar in northeastern Gujarat, where he completed his secondary education. He was introduced to the RSS at age eight. His account of helping his father sell tea at the Vadnagar railway station has not been reliably corroborated. At age 18, he was married to Jashodaben Modi, whom he abandoned soon after, only publicly acknowledging her four decades later when legally required to do so. Modi became a full-time worker for the RSS in Gujarat in 1971. After the state of emergency was declared by Prime Minister Indira Gandhi in 1975, he went into hiding. The RSS assigned him to the BJP in 1985 and he held several positions within the party hierarchy until 2001, rising to the rank of general secretary\n",
        "\"\"\""
      ],
      "metadata": {
        "id": "EmQy4UXfznhP"
      },
      "execution_count": null,
      "outputs": []
    },
    {
      "cell_type": "code",
      "source": [
        "paragraphs"
      ],
      "metadata": {
        "colab": {
          "base_uri": "https://localhost:8080/",
          "height": 123
        },
        "id": "yl_xhGjCz54X",
        "outputId": "21a2ad2b-bb76-461b-c0e7-450a245520c8"
      },
      "execution_count": null,
      "outputs": [
        {
          "output_type": "execute_result",
          "data": {
            "text/plain": [
              "'\\nNarendra Damodardas Modi (Gujarati: [ˈnəɾendɾə dɑmodəɾˈdɑs ˈmodiː] (listen); born 17 September 1950)[b] is an Indian politician who has served as the 14th Prime Minister of India since May 2014. Modi was the Chief Minister of Gujarat from 2001 to 2014 and is the Member of Parliament (MP) for Varanasi. He is a member of the Bharatiya Janata Party (BJP) and of the Rashtriya Swayamsevak Sangh (RSS), a right-wing Hindu nationalist paramilitary volunteer organisation. He is the longest-serving prime minister from outside the Indian National Congress.\\n\\nModi was born and raised in Vadnagar in northeastern Gujarat, where he completed his secondary education. He was introduced to the RSS at age eight. His account of helping his father sell tea at the Vadnagar railway station has not been reliably corroborated. At age 18, he was married to Jashodaben Modi, whom he abandoned soon after, only publicly acknowledging her four decades later when legally required to do so. Modi became a full-time worker for the RSS in Gujarat in 1971. After the state of emergency was declared by Prime Minister Indira Gandhi in 1975, he went into hiding. The RSS assigned him to the BJP in 1985 and he held several positions within the party hierarchy until 2001, rising to the rank of general secretary\\n'"
            ],
            "application/vnd.google.colaboratory.intrinsic+json": {
              "type": "string"
            }
          },
          "metadata": {},
          "execution_count": 3
        }
      ]
    },
    {
      "cell_type": "code",
      "source": [
        "import nltk\n",
        "from nltk.stem import PorterStemmer\n",
        "from nltk.corpus import stopwords"
      ],
      "metadata": {
        "id": "gHkCDfAbz7iF"
      },
      "execution_count": null,
      "outputs": []
    },
    {
      "cell_type": "code",
      "source": [
        "#tokenization-convert paragraphs in sentences\n",
        "nltk.download('punkt')\n",
        "sentences=nltk.sent_tokenize(paragraphs)\n"
      ],
      "metadata": {
        "colab": {
          "base_uri": "https://localhost:8080/"
        },
        "id": "VNyKc9F_0Jdo",
        "outputId": "de295070-6983-4109-a1db-d7b695dcaacf"
      },
      "execution_count": null,
      "outputs": [
        {
          "output_type": "stream",
          "name": "stderr",
          "text": [
            "[nltk_data] Downloading package punkt to /root/nltk_data...\n",
            "[nltk_data]   Unzipping tokenizers/punkt.zip.\n"
          ]
        }
      ]
    },
    {
      "cell_type": "code",
      "source": [
        "print(sentences)"
      ],
      "metadata": {
        "colab": {
          "base_uri": "https://localhost:8080/"
        },
        "id": "TZPWdnl70djq",
        "outputId": "a74eda09-166a-4992-9cf4-41f5739a9774"
      },
      "execution_count": null,
      "outputs": [
        {
          "output_type": "stream",
          "name": "stdout",
          "text": [
            "['\\nNarendra Damodardas Modi (Gujarati: [ˈnəɾendɾə dɑmodəɾˈdɑs ˈmodiː] (listen); born 17 September 1950)[b] is an Indian politician who has served as the 14th Prime Minister of India since May 2014.', 'Modi was the Chief Minister of Gujarat from 2001 to 2014 and is the Member of Parliament (MP) for Varanasi.', 'He is a member of the Bharatiya Janata Party (BJP) and of the Rashtriya Swayamsevak Sangh (RSS), a right-wing Hindu nationalist paramilitary volunteer organisation.', 'He is the longest-serving prime minister from outside the Indian National Congress.', 'Modi was born and raised in Vadnagar in northeastern Gujarat, where he completed his secondary education.', 'He was introduced to the RSS at age eight.', 'His account of helping his father sell tea at the Vadnagar railway station has not been reliably corroborated.', 'At age 18, he was married to Jashodaben Modi, whom he abandoned soon after, only publicly acknowledging her four decades later when legally required to do so.', 'Modi became a full-time worker for the RSS in Gujarat in 1971.', 'After the state of emergency was declared by Prime Minister Indira Gandhi in 1975, he went into hiding.', 'The RSS assigned him to the BJP in 1985 and he held several positions within the party hierarchy until 2001, rising to the rank of general secretary']\n"
          ]
        }
      ]
    },
    {
      "cell_type": "code",
      "source": [
        "type(sentences)"
      ],
      "metadata": {
        "colab": {
          "base_uri": "https://localhost:8080/"
        },
        "id": "3QyufkE90gjH",
        "outputId": "a6abf0e5-947e-4fa0-e35b-1ba26a260049"
      },
      "execution_count": null,
      "outputs": [
        {
          "output_type": "execute_result",
          "data": {
            "text/plain": [
              "list"
            ]
          },
          "metadata": {},
          "execution_count": 7
        }
      ]
    },
    {
      "cell_type": "code",
      "source": [
        "stemmer=PorterStemmer()"
      ],
      "metadata": {
        "id": "iikdDcoA02r3"
      },
      "execution_count": null,
      "outputs": []
    },
    {
      "cell_type": "code",
      "source": [
        "stemmer.stem('going')"
      ],
      "metadata": {
        "colab": {
          "base_uri": "https://localhost:8080/",
          "height": 36
        },
        "id": "k24N4RJw1JjN",
        "outputId": "15a31db3-c0cd-4ebc-ca70-b07a0a0695e2"
      },
      "execution_count": null,
      "outputs": [
        {
          "output_type": "execute_result",
          "data": {
            "text/plain": [
              "'go'"
            ],
            "application/vnd.google.colaboratory.intrinsic+json": {
              "type": "string"
            }
          },
          "metadata": {},
          "execution_count": 9
        }
      ]
    },
    {
      "cell_type": "code",
      "source": [
        "stemmer.stem('thinking')"
      ],
      "metadata": {
        "colab": {
          "base_uri": "https://localhost:8080/",
          "height": 36
        },
        "id": "glxjZf5R1Mfd",
        "outputId": "3a31546d-487f-430f-d0d0-2735a43d931a"
      },
      "execution_count": null,
      "outputs": [
        {
          "output_type": "execute_result",
          "data": {
            "text/plain": [
              "'think'"
            ],
            "application/vnd.google.colaboratory.intrinsic+json": {
              "type": "string"
            }
          },
          "metadata": {},
          "execution_count": 10
        }
      ]
    },
    {
      "cell_type": "code",
      "source": [
        "from nltk.stem import WordNetLemmatizer"
      ],
      "metadata": {
        "id": "GTGQ06Ra1Rh8"
      },
      "execution_count": null,
      "outputs": []
    },
    {
      "cell_type": "code",
      "source": [
        "lemmatizer=WordNetLemmatizer()"
      ],
      "metadata": {
        "id": "CPzGEWmk1iN7"
      },
      "execution_count": null,
      "outputs": []
    },
    {
      "cell_type": "code",
      "source": [
        "len(sentences)"
      ],
      "metadata": {
        "colab": {
          "base_uri": "https://localhost:8080/"
        },
        "id": "beD6AfMO2cjp",
        "outputId": "5ca0a363-3c44-4a51-b117-e60ecb8b95cc"
      },
      "execution_count": null,
      "outputs": [
        {
          "output_type": "execute_result",
          "data": {
            "text/plain": [
              "11"
            ]
          },
          "metadata": {},
          "execution_count": 13
        }
      ]
    },
    {
      "cell_type": "code",
      "source": [
        "import re\n",
        "corpus=[]\n",
        "for i in range(len(sentences)):\n",
        "  review=re.sub('[^a-zA-Z]',' ',sentences[i])\n",
        "  review=review.lower()\n",
        "  corpus.append(review)"
      ],
      "metadata": {
        "id": "kQUSW-761wmU"
      },
      "execution_count": null,
      "outputs": []
    },
    {
      "cell_type": "code",
      "source": [
        "corpus"
      ],
      "metadata": {
        "colab": {
          "base_uri": "https://localhost:8080/"
        },
        "id": "R8mBjJC62Wco",
        "outputId": "8ff6013f-4907-46aa-e0a3-f0707ea0e981"
      },
      "execution_count": null,
      "outputs": [
        {
          "output_type": "execute_result",
          "data": {
            "text/plain": [
              "[' narendra damodardas modi  gujarati    n  end   d mod   d s  modi    listen   born    september       b  is an indian politician who has served as the   th prime minister of india since may      ',\n",
              " 'modi was the chief minister of gujarat from      to      and is the member of parliament  mp  for varanasi ',\n",
              " 'he is a member of the bharatiya janata party  bjp  and of the rashtriya swayamsevak sangh  rss   a right wing hindu nationalist paramilitary volunteer organisation ',\n",
              " 'he is the longest serving prime minister from outside the indian national congress ',\n",
              " 'modi was born and raised in vadnagar in northeastern gujarat  where he completed his secondary education ',\n",
              " 'he was introduced to the rss at age eight ',\n",
              " 'his account of helping his father sell tea at the vadnagar railway station has not been reliably corroborated ',\n",
              " 'at age     he was married to jashodaben modi  whom he abandoned soon after  only publicly acknowledging her four decades later when legally required to do so ',\n",
              " 'modi became a full time worker for the rss in gujarat in      ',\n",
              " 'after the state of emergency was declared by prime minister indira gandhi in       he went into hiding ',\n",
              " 'the rss assigned him to the bjp in      and he held several positions within the party hierarchy until       rising to the rank of general secretary']"
            ]
          },
          "metadata": {},
          "execution_count": 15
        }
      ]
    },
    {
      "cell_type": "code",
      "source": [
        "import nltk\n",
        "nltk.download('stopwords')\n",
        "stopwords.words('english')"
      ],
      "metadata": {
        "colab": {
          "base_uri": "https://localhost:8080/"
        },
        "id": "y5xOaLy4XR_s",
        "outputId": "dff6fd6a-c828-4ed9-9fbc-110f63f6c72f"
      },
      "execution_count": null,
      "outputs": [
        {
          "output_type": "stream",
          "name": "stderr",
          "text": [
            "[nltk_data] Downloading package stopwords to /root/nltk_data...\n",
            "[nltk_data]   Unzipping corpora/stopwords.zip.\n"
          ]
        },
        {
          "output_type": "execute_result",
          "data": {
            "text/plain": [
              "['i',\n",
              " 'me',\n",
              " 'my',\n",
              " 'myself',\n",
              " 'we',\n",
              " 'our',\n",
              " 'ours',\n",
              " 'ourselves',\n",
              " 'you',\n",
              " \"you're\",\n",
              " \"you've\",\n",
              " \"you'll\",\n",
              " \"you'd\",\n",
              " 'your',\n",
              " 'yours',\n",
              " 'yourself',\n",
              " 'yourselves',\n",
              " 'he',\n",
              " 'him',\n",
              " 'his',\n",
              " 'himself',\n",
              " 'she',\n",
              " \"she's\",\n",
              " 'her',\n",
              " 'hers',\n",
              " 'herself',\n",
              " 'it',\n",
              " \"it's\",\n",
              " 'its',\n",
              " 'itself',\n",
              " 'they',\n",
              " 'them',\n",
              " 'their',\n",
              " 'theirs',\n",
              " 'themselves',\n",
              " 'what',\n",
              " 'which',\n",
              " 'who',\n",
              " 'whom',\n",
              " 'this',\n",
              " 'that',\n",
              " \"that'll\",\n",
              " 'these',\n",
              " 'those',\n",
              " 'am',\n",
              " 'is',\n",
              " 'are',\n",
              " 'was',\n",
              " 'were',\n",
              " 'be',\n",
              " 'been',\n",
              " 'being',\n",
              " 'have',\n",
              " 'has',\n",
              " 'had',\n",
              " 'having',\n",
              " 'do',\n",
              " 'does',\n",
              " 'did',\n",
              " 'doing',\n",
              " 'a',\n",
              " 'an',\n",
              " 'the',\n",
              " 'and',\n",
              " 'but',\n",
              " 'if',\n",
              " 'or',\n",
              " 'because',\n",
              " 'as',\n",
              " 'until',\n",
              " 'while',\n",
              " 'of',\n",
              " 'at',\n",
              " 'by',\n",
              " 'for',\n",
              " 'with',\n",
              " 'about',\n",
              " 'against',\n",
              " 'between',\n",
              " 'into',\n",
              " 'through',\n",
              " 'during',\n",
              " 'before',\n",
              " 'after',\n",
              " 'above',\n",
              " 'below',\n",
              " 'to',\n",
              " 'from',\n",
              " 'up',\n",
              " 'down',\n",
              " 'in',\n",
              " 'out',\n",
              " 'on',\n",
              " 'off',\n",
              " 'over',\n",
              " 'under',\n",
              " 'again',\n",
              " 'further',\n",
              " 'then',\n",
              " 'once',\n",
              " 'here',\n",
              " 'there',\n",
              " 'when',\n",
              " 'where',\n",
              " 'why',\n",
              " 'how',\n",
              " 'all',\n",
              " 'any',\n",
              " 'both',\n",
              " 'each',\n",
              " 'few',\n",
              " 'more',\n",
              " 'most',\n",
              " 'other',\n",
              " 'some',\n",
              " 'such',\n",
              " 'no',\n",
              " 'nor',\n",
              " 'not',\n",
              " 'only',\n",
              " 'own',\n",
              " 'same',\n",
              " 'so',\n",
              " 'than',\n",
              " 'too',\n",
              " 'very',\n",
              " 's',\n",
              " 't',\n",
              " 'can',\n",
              " 'will',\n",
              " 'just',\n",
              " 'don',\n",
              " \"don't\",\n",
              " 'should',\n",
              " \"should've\",\n",
              " 'now',\n",
              " 'd',\n",
              " 'll',\n",
              " 'm',\n",
              " 'o',\n",
              " 're',\n",
              " 've',\n",
              " 'y',\n",
              " 'ain',\n",
              " 'aren',\n",
              " \"aren't\",\n",
              " 'couldn',\n",
              " \"couldn't\",\n",
              " 'didn',\n",
              " \"didn't\",\n",
              " 'doesn',\n",
              " \"doesn't\",\n",
              " 'hadn',\n",
              " \"hadn't\",\n",
              " 'hasn',\n",
              " \"hasn't\",\n",
              " 'haven',\n",
              " \"haven't\",\n",
              " 'isn',\n",
              " \"isn't\",\n",
              " 'ma',\n",
              " 'mightn',\n",
              " \"mightn't\",\n",
              " 'mustn',\n",
              " \"mustn't\",\n",
              " 'needn',\n",
              " \"needn't\",\n",
              " 'shan',\n",
              " \"shan't\",\n",
              " 'shouldn',\n",
              " \"shouldn't\",\n",
              " 'wasn',\n",
              " \"wasn't\",\n",
              " 'weren',\n",
              " \"weren't\",\n",
              " 'won',\n",
              " \"won't\",\n",
              " 'wouldn',\n",
              " \"wouldn't\"]"
            ]
          },
          "metadata": {},
          "execution_count": 16
        }
      ]
    },
    {
      "cell_type": "code",
      "source": [
        "#stemming\n",
        "for i in corpus:\n",
        "  words=nltk.word_tokenize(i)\n",
        "  for word in words:\n",
        "    if word not in set(stopwords.words('english')):\n",
        "      print(stemmer.stem(word))"
      ],
      "metadata": {
        "id": "Kq6Wy95-29Oh",
        "colab": {
          "base_uri": "https://localhost:8080/"
        },
        "outputId": "9ae2dc79-4400-49dc-8189-5632bd02bc25"
      },
      "execution_count": null,
      "outputs": [
        {
          "output_type": "stream",
          "name": "stdout",
          "text": [
            "narendra\n",
            "damodarda\n",
            "modi\n",
            "gujarati\n",
            "n\n",
            "end\n",
            "mod\n",
            "modi\n",
            "listen\n",
            "born\n",
            "septemb\n",
            "b\n",
            "indian\n",
            "politician\n",
            "serv\n",
            "th\n",
            "prime\n",
            "minist\n",
            "india\n",
            "sinc\n",
            "may\n",
            "modi\n",
            "chief\n",
            "minist\n",
            "gujarat\n",
            "member\n",
            "parliament\n",
            "mp\n",
            "varanasi\n",
            "member\n",
            "bharatiya\n",
            "janata\n",
            "parti\n",
            "bjp\n",
            "rashtriya\n",
            "swayamsevak\n",
            "sangh\n",
            "rss\n",
            "right\n",
            "wing\n",
            "hindu\n",
            "nationalist\n",
            "paramilitari\n",
            "volunt\n",
            "organis\n",
            "longest\n",
            "serv\n",
            "prime\n",
            "minist\n",
            "outsid\n",
            "indian\n",
            "nation\n",
            "congress\n",
            "modi\n",
            "born\n",
            "rais\n",
            "vadnagar\n",
            "northeastern\n",
            "gujarat\n",
            "complet\n",
            "secondari\n",
            "educ\n",
            "introduc\n",
            "rss\n",
            "age\n",
            "eight\n",
            "account\n",
            "help\n",
            "father\n",
            "sell\n",
            "tea\n",
            "vadnagar\n",
            "railway\n",
            "station\n",
            "reliabl\n",
            "corrobor\n",
            "age\n",
            "marri\n",
            "jashodaben\n",
            "modi\n",
            "abandon\n",
            "soon\n",
            "publicli\n",
            "acknowledg\n",
            "four\n",
            "decad\n",
            "later\n",
            "legal\n",
            "requir\n",
            "modi\n",
            "becam\n",
            "full\n",
            "time\n",
            "worker\n",
            "rss\n",
            "gujarat\n",
            "state\n",
            "emerg\n",
            "declar\n",
            "prime\n",
            "minist\n",
            "indira\n",
            "gandhi\n",
            "went\n",
            "hide\n",
            "rss\n",
            "assign\n",
            "bjp\n",
            "held\n",
            "sever\n",
            "posit\n",
            "within\n",
            "parti\n",
            "hierarchi\n",
            "rise\n",
            "rank\n",
            "gener\n",
            "secretari\n"
          ]
        }
      ]
    },
    {
      "cell_type": "code",
      "source": [
        "import re\n",
        "import nltk\n",
        "nltk.download('wordnet')\n",
        "corpus=[]\n",
        "for i in range(len(sentences)):\n",
        "  review=re.sub('[^a-zA-Z]',' ',sentences[i])\n",
        "  review=review.lower()\n",
        "  review=review.split()\n",
        "  review =[lemmatizer.lemmatize(word) for word in review if not word in set(stopwords.words('english'))]\n",
        "  review=' '.join(review)\n",
        "  corpus.append(review)"
      ],
      "metadata": {
        "id": "fYxlsb2O9F0K",
        "colab": {
          "base_uri": "https://localhost:8080/"
        },
        "outputId": "149ac49a-a472-422d-e68c-589685afdc33"
      },
      "execution_count": null,
      "outputs": [
        {
          "output_type": "stream",
          "name": "stderr",
          "text": [
            "[nltk_data] Downloading package wordnet to /root/nltk_data...\n"
          ]
        }
      ]
    },
    {
      "cell_type": "code",
      "source": [
        "#lemmztize\n",
        "nltk.download('wordnet')\n",
        "for i in corpus:\n",
        "  words=nltk.word_tokenize(i)\n",
        "  for word in words:\n",
        "    if word not in set(stopwords.words('english')):\n",
        "      print(lemmatizer.lemmatize(word))"
      ],
      "metadata": {
        "colab": {
          "base_uri": "https://localhost:8080/"
        },
        "id": "SlA0EEA_XJUT",
        "outputId": "0e885f2d-38ec-4a90-8d7e-a3feeee3a4f9"
      },
      "execution_count": null,
      "outputs": [
        {
          "output_type": "stream",
          "name": "stdout",
          "text": [
            "narendra\n",
            "damodardas\n",
            "modi\n",
            "gujarati\n",
            "n\n",
            "end\n",
            "mod\n",
            "modi\n",
            "listen\n",
            "born\n",
            "september\n",
            "b\n",
            "indian\n",
            "politician\n",
            "served\n",
            "th\n",
            "prime\n",
            "minister\n",
            "india\n",
            "since\n",
            "may\n",
            "modi\n",
            "chief\n",
            "minister\n",
            "gujarat\n",
            "member\n",
            "parliament\n",
            "mp\n",
            "varanasi\n",
            "member\n",
            "bharatiya\n",
            "janata\n",
            "party\n",
            "bjp\n",
            "rashtriya\n",
            "swayamsevak\n",
            "sangh\n",
            "r\n",
            "right\n",
            "wing\n",
            "hindu\n",
            "nationalist\n",
            "paramilitary\n",
            "volunteer\n",
            "organisation\n",
            "longest\n",
            "serving\n",
            "prime\n",
            "minister\n",
            "outside\n",
            "indian\n",
            "national\n",
            "congress\n",
            "modi\n",
            "born\n",
            "raised\n",
            "vadnagar\n",
            "northeastern\n",
            "gujarat\n",
            "completed\n",
            "secondary\n",
            "education\n",
            "introduced\n",
            "r\n",
            "age\n",
            "eight\n",
            "account\n",
            "helping\n",
            "father\n",
            "sell\n",
            "tea\n",
            "vadnagar\n",
            "railway\n",
            "station\n",
            "reliably\n",
            "corroborated\n",
            "age\n",
            "married\n",
            "jashodaben\n",
            "modi\n",
            "abandoned\n",
            "soon\n",
            "publicly\n",
            "acknowledging\n",
            "four\n",
            "decade\n",
            "later\n",
            "legally\n",
            "required\n",
            "modi\n",
            "became\n",
            "full\n",
            "time\n",
            "worker\n",
            "r\n",
            "gujarat\n",
            "state\n",
            "emergency\n",
            "declared\n",
            "prime\n",
            "minister\n",
            "indira\n",
            "gandhi\n",
            "went\n",
            "hiding\n",
            "r\n",
            "assigned\n",
            "bjp\n",
            "held\n",
            "several\n",
            "position\n",
            "within\n",
            "party\n",
            "hierarchy\n",
            "rising\n",
            "rank\n",
            "general\n",
            "secretary\n"
          ]
        },
        {
          "output_type": "stream",
          "name": "stderr",
          "text": [
            "[nltk_data] Downloading package wordnet to /root/nltk_data...\n",
            "[nltk_data]   Package wordnet is already up-to-date!\n"
          ]
        }
      ]
    },
    {
      "cell_type": "code",
      "source": [
        "##Bag of words,\n",
        "from sklearn.feature_extraction.text import CountVectorizer\n",
        "cv=CountVectorizer(binary=True,ngram_range=(3,3))"
      ],
      "metadata": {
        "id": "-t0Rp3lwYG4O"
      },
      "execution_count": null,
      "outputs": []
    },
    {
      "cell_type": "code",
      "source": [
        "X=cv.fit_transform(corpus)"
      ],
      "metadata": {
        "id": "lsbO4sTvY-Iv"
      },
      "execution_count": null,
      "outputs": []
    },
    {
      "cell_type": "code",
      "source": [
        "cv.vocabulary_"
      ],
      "metadata": {
        "colab": {
          "base_uri": "https://localhost:8080/"
        },
        "id": "SXGTSWPIYrY_",
        "outputId": "88dabe24-0ed6-490d-982a-45eee3bbfbfe"
      },
      "execution_count": null,
      "outputs": [
        {
          "output_type": "execute_result",
          "data": {
            "text/plain": [
              "{'narendra damodardas modi': 53,\n",
              " 'damodardas modi gujarati': 13,\n",
              " 'modi gujarati end': 51,\n",
              " 'gujarati end mod': 24,\n",
              " 'end mod modi': 17,\n",
              " 'mod modi listen': 46,\n",
              " 'modi listen born': 52,\n",
              " 'listen born september': 37,\n",
              " 'born september indian': 10,\n",
              " 'september indian politician': 75,\n",
              " 'indian politician served': 31,\n",
              " 'politician served th': 61,\n",
              " 'served th prime': 76,\n",
              " 'th prime minister': 84,\n",
              " 'prime minister india': 63,\n",
              " 'minister india since': 43,\n",
              " 'india since may': 29,\n",
              " 'modi chief minister': 50,\n",
              " 'chief minister gujarat': 11,\n",
              " 'minister gujarat member': 42,\n",
              " 'gujarat member parliament': 23,\n",
              " 'member parliament mp': 41,\n",
              " 'parliament mp varanasi': 58,\n",
              " 'member bharatiya janata': 40,\n",
              " 'bharatiya janata party': 6,\n",
              " 'janata party bjp': 34,\n",
              " 'party bjp rashtriya': 59,\n",
              " 'bjp rashtriya swayamsevak': 8,\n",
              " 'rashtriya swayamsevak sangh': 70,\n",
              " 'swayamsevak sangh right': 82,\n",
              " 'sangh right wing': 73,\n",
              " 'right wing hindu': 71,\n",
              " 'wing hindu nationalist': 88,\n",
              " 'hindu nationalist paramilitary': 28,\n",
              " 'nationalist paramilitary volunteer': 54,\n",
              " 'paramilitary volunteer organisation': 57,\n",
              " 'longest serving prime': 38,\n",
              " 'serving prime minister': 77,\n",
              " 'prime minister outside': 65,\n",
              " 'minister outside indian': 45,\n",
              " 'outside indian national': 56,\n",
              " 'indian national congress': 30,\n",
              " 'modi born raised': 49,\n",
              " 'born raised vadnagar': 9,\n",
              " 'raised vadnagar northeastern': 68,\n",
              " 'vadnagar northeastern gujarat': 86,\n",
              " 'northeastern gujarat completed': 55,\n",
              " 'gujarat completed secondary': 22,\n",
              " 'completed secondary education': 12,\n",
              " 'introduced age eight': 33,\n",
              " 'account helping father': 1,\n",
              " 'helping father sell': 26,\n",
              " 'father sell tea': 18,\n",
              " 'sell tea vadnagar': 74,\n",
              " 'tea vadnagar railway': 83,\n",
              " 'vadnagar railway station': 87,\n",
              " 'railway station reliably': 67,\n",
              " 'station reliably corroborated': 81,\n",
              " 'age married jashodaben': 3,\n",
              " 'married jashodaben modi': 39,\n",
              " 'jashodaben modi abandoned': 35,\n",
              " 'modi abandoned soon': 47,\n",
              " 'abandoned soon publicly': 0,\n",
              " 'soon publicly acknowledging': 79,\n",
              " 'publicly acknowledging four': 66,\n",
              " 'acknowledging four decade': 2,\n",
              " 'four decade later': 19,\n",
              " 'decade later legally': 14,\n",
              " 'later legally required': 36,\n",
              " 'modi became full': 48,\n",
              " 'became full time': 5,\n",
              " 'full time worker': 20,\n",
              " 'time worker gujarat': 85,\n",
              " 'state emergency declared': 80,\n",
              " 'emergency declared prime': 16,\n",
              " 'declared prime minister': 15,\n",
              " 'prime minister indira': 64,\n",
              " 'minister indira gandhi': 44,\n",
              " 'indira gandhi went': 32,\n",
              " 'gandhi went hiding': 21,\n",
              " 'assigned bjp held': 4,\n",
              " 'bjp held several': 7,\n",
              " 'held several position': 25,\n",
              " 'several position within': 78,\n",
              " 'position within party': 62,\n",
              " 'within party hierarchy': 89,\n",
              " 'party hierarchy rising': 60,\n",
              " 'hierarchy rising rank': 27,\n",
              " 'rising rank general': 72,\n",
              " 'rank general secretary': 69}"
            ]
          },
          "metadata": {},
          "execution_count": 22
        }
      ]
    },
    {
      "cell_type": "code",
      "source": [
        "corpus[0]"
      ],
      "metadata": {
        "colab": {
          "base_uri": "https://localhost:8080/",
          "height": 36
        },
        "id": "oIBJ3lhhYtgd",
        "outputId": "2d086397-c6e5-40ca-a230-9009856e67d1"
      },
      "execution_count": null,
      "outputs": [
        {
          "output_type": "execute_result",
          "data": {
            "text/plain": [
              "'narendra damodardas modi gujarati n end mod modi listen born september b indian politician served th prime minister india since may'"
            ],
            "application/vnd.google.colaboratory.intrinsic+json": {
              "type": "string"
            }
          },
          "metadata": {},
          "execution_count": 23
        }
      ]
    },
    {
      "cell_type": "code",
      "source": [
        "X[0].toarray()"
      ],
      "metadata": {
        "colab": {
          "base_uri": "https://localhost:8080/"
        },
        "id": "omNubPpoZUTs",
        "outputId": "7c8c46df-ffea-4a8c-b0d1-637aa923458b"
      },
      "execution_count": null,
      "outputs": [
        {
          "output_type": "execute_result",
          "data": {
            "text/plain": [
              "array([[0, 0, 0, 0, 0, 0, 0, 0, 0, 0, 1, 0, 0, 1, 0, 0, 0, 1, 0, 0, 0, 0,\n",
              "        0, 0, 1, 0, 0, 0, 0, 1, 0, 1, 0, 0, 0, 0, 0, 1, 0, 0, 0, 0, 0, 1,\n",
              "        0, 0, 1, 0, 0, 0, 0, 1, 1, 1, 0, 0, 0, 0, 0, 0, 0, 1, 0, 1, 0, 0,\n",
              "        0, 0, 0, 0, 0, 0, 0, 0, 0, 1, 1, 0, 0, 0, 0, 0, 0, 0, 1, 0, 0, 0,\n",
              "        0, 0]])"
            ]
          },
          "metadata": {},
          "execution_count": 24
        }
      ]
    },
    {
      "cell_type": "code",
      "source": [
        "#TFIDF\n",
        "from sklearn.feature_extraction.text import TfidfVectorizer\n",
        "cv=TfidfVectorizer(ngram_range=(2,3),max_features=10)\n",
        "X=cv.fit_transform(corpus)"
      ],
      "metadata": {
        "id": "pzJccEBXZWYd"
      },
      "execution_count": null,
      "outputs": []
    },
    {
      "cell_type": "code",
      "source": [
        "corpus[0]"
      ],
      "metadata": {
        "colab": {
          "base_uri": "https://localhost:8080/",
          "height": 36
        },
        "id": "RX532YvrJMhi",
        "outputId": "ae5b99a2-75fe-4b15-9e80-218d18b1a098"
      },
      "execution_count": null,
      "outputs": [
        {
          "output_type": "execute_result",
          "data": {
            "text/plain": [
              "'narendra damodardas modi gujarati n end mod modi listen born september b indian politician served th prime minister india since may'"
            ],
            "application/vnd.google.colaboratory.intrinsic+json": {
              "type": "string"
            }
          },
          "metadata": {},
          "execution_count": 26
        }
      ]
    },
    {
      "cell_type": "code",
      "source": [
        "X[0].toarray()"
      ],
      "metadata": {
        "colab": {
          "base_uri": "https://localhost:8080/"
        },
        "id": "6xdPbBUcJVJx",
        "outputId": "cf9cbd5c-b6f6-426e-8e8d-4787a92ed4b4"
      },
      "execution_count": null,
      "outputs": [
        {
          "output_type": "execute_result",
          "data": {
            "text/plain": [
              "array([[0.        , 0.        , 0.        , 0.        , 0.        ,\n",
              "        0.        , 0.        , 0.        , 0.79934084, 0.60087788]])"
            ]
          },
          "metadata": {},
          "execution_count": 27
        }
      ]
    },
    {
      "cell_type": "code",
      "source": [],
      "metadata": {
        "id": "q49x4-0UJYhz"
      },
      "execution_count": null,
      "outputs": []
    }
  ]
}